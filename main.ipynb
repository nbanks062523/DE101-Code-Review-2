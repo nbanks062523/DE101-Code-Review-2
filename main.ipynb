{
 "cells": [
  {
   "cell_type": "code",
   "execution_count": 8,
   "metadata": {},
   "outputs": [
    {
     "name": "stdout",
     "output_type": "stream",
     "text": [
      "Your number is: 12 & your new total is: \n"
     ]
    },
    {
     "data": {
      "text/plain": [
       "15"
      ]
     },
     "execution_count": 8,
     "metadata": {},
     "output_type": "execute_result"
    }
   ],
   "source": [
    "# Write a function that takes an argument adds 3 to it and returns the sum\n",
    "\n",
    "random_num=int(input(\"Please enter a number: \")) \n",
    "\n",
    "def plus_three():\n",
    "    \n",
    " sum = random_num + 3\n",
    " return sum\n",
    "\n",
    "print(f\"Your number is: {random_num} & your new total is: \")\n",
    "\n",
    "plus_three ()\n"
   ]
  },
  {
   "cell_type": "code",
   "execution_count": 5,
   "metadata": {},
   "outputs": [
    {
     "name": "stdout",
     "output_type": "stream",
     "text": [
      "Today's high is 75 and the low is 51\n",
      "Today's high is 65 and the low is 42\n"
     ]
    }
   ],
   "source": [
    "# Create a function called \"weather_report\" that takes 2 arguments and returns today's \"high\" and \"low\"\n",
    "\n",
    "def weather_report(weather_1:int,weather_2:int)->int:\n",
    "    \n",
    "    today = print(f\"Today's high is {weather_1} and the low is {weather_2}\")\n",
    "     \n",
    "    return(today)\n",
    "\n",
    "weather_report(75,51)\n",
    "weather_report(65,42)"
   ]
  }
 ],
 "metadata": {
  "kernelspec": {
   "display_name": "venv",
   "language": "python",
   "name": "python3"
  },
  "language_info": {
   "codemirror_mode": {
    "name": "ipython",
    "version": 3
   },
   "file_extension": ".py",
   "mimetype": "text/x-python",
   "name": "python",
   "nbconvert_exporter": "python",
   "pygments_lexer": "ipython3",
   "version": "3.10.12"
  }
 },
 "nbformat": 4,
 "nbformat_minor": 2
}
