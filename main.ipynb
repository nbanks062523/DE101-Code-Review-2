{
 "cells": [
  {
   "cell_type": "code",
   "execution_count": 8,
   "metadata": {},
   "outputs": [
    {
     "name": "stdout",
     "output_type": "stream",
     "text": [
      "Your number is: 12 & your new total is: \n"
     ]
    },
    {
     "data": {
      "text/plain": [
       "15"
      ]
     },
     "execution_count": 8,
     "metadata": {},
     "output_type": "execute_result"
    }
   ],
   "source": [
    "# Write a function that takes an argument adds 3 to it and returns the sum\n",
    "\n",
    "random_num=int(input(\"Please enter a number: \")) \n",
    "\n",
    "def plus_three():\n",
    "    \n",
    " sum = random_num + 3\n",
    " return sum\n",
    "\n",
    "print(f\"Your number is: {random_num} & your new total is: \")\n",
    "\n",
    "plus_three ()\n"
   ]
  },
  {
   "cell_type": "code",
   "execution_count": 5,
   "metadata": {},
   "outputs": [
    {
     "name": "stdout",
     "output_type": "stream",
     "text": [
      "Today's high is 75 and the low is 51\n",
      "Today's high is 65 and the low is 42\n"
     ]
    }
   ],
   "source": [
    "# Create a function called \"weather_report\" that takes 2 arguments and returns today's \"high\" and \"low\"\n",
    "\n",
    "def weather_report(weather_1:int,weather_2:int)->int:\n",
    "    \n",
    "    today = print(f\"Today's high is {weather_1} and the low is {weather_2}\")\n",
    "     \n",
    "    return(today)\n",
    "\n",
    "weather_report(75,51)\n",
    "weather_report(65,42)"
   ]
  },
  {
   "cell_type": "code",
   "execution_count": 4,
   "metadata": {},
   "outputs": [
    {
     "name": "stdout",
     "output_type": "stream",
     "text": [
      "1\n",
      "4\n",
      "9\n",
      "16\n",
      "25\n",
      "36\n",
      "49\n",
      "64\n",
      "81\n",
      "100\n"
     ]
    }
   ],
   "source": [
    "# Create a tuple of numbers 1-10 that contains a for loop \n",
    "top_ten = (1,2,3,4,5,6,7,8,9,10)\n",
    "for item in top_ten:\n",
    "    print(item * item)"
   ]
  },
  {
   "cell_type": "code",
   "execution_count": 7,
   "metadata": {},
   "outputs": [
    {
     "name": "stdout",
     "output_type": "stream",
     "text": [
      "We have a 7\n"
     ]
    }
   ],
   "source": [
    "# Write an if statement that checks whether the number 7 is in the tuple \"top_ten\".\n",
    "if 7 in top_ten:\n",
    "    print(\"We have a 7\")\n",
    "else:\n",
    "    print(\"No 7 here\")"
   ]
  }
 ],
 "metadata": {
  "kernelspec": {
   "display_name": "venv",
   "language": "python",
   "name": "python3"
  },
  "language_info": {
   "codemirror_mode": {
    "name": "ipython",
    "version": 3
   },
   "file_extension": ".py",
   "mimetype": "text/x-python",
   "name": "python",
   "nbconvert_exporter": "python",
   "pygments_lexer": "ipython3",
   "version": "3.10.12"
  }
 },
 "nbformat": 4,
 "nbformat_minor": 2
}
